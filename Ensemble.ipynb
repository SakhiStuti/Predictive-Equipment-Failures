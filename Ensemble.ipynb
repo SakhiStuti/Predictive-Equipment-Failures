{
 "cells": [
  {
   "cell_type": "code",
   "execution_count": 2,
   "metadata": {},
   "outputs": [],
   "source": [
    "import numpy as np\n",
    "import pandas as pd\n",
    "\n",
    "from sklearn.model_selection import train_test_split\n",
    "from sklearn.metrics import f1_score\n",
    "from sklearn.preprocessing import normalize, StandardScaler\n",
    "from sklearn.preprocessing import MinMaxScaler\n",
    "from sklearn import preprocessing\n",
    "\n",
    "import pickle\n",
    "from scipy import stats"
   ]
  },
  {
   "cell_type": "code",
   "execution_count": 3,
   "metadata": {},
   "outputs": [],
   "source": [
    "def save_object(o, filename):\n",
    "    with open(filename, 'wb')  as f:\n",
    "        pickle.dump(o, f)\n",
    "    \n",
    "def load_object(filename):\n",
    "    with open(filename, 'rb')  as f:\n",
    "        obj = pickle.load(f)\n",
    "    return obj"
   ]
  },
  {
   "cell_type": "code",
   "execution_count": 6,
   "metadata": {},
   "outputs": [],
   "source": [
    "data = pd.read_csv(\"./data/equip_failures_training_set.csv\")"
   ]
  },
  {
   "cell_type": "markdown",
   "metadata": {},
   "source": [
    "### Preprocessing"
   ]
  },
  {
   "cell_type": "code",
   "execution_count": 9,
   "metadata": {},
   "outputs": [],
   "source": [
    "data = data.replace('na', np.nan) \n",
    "data = data.astype(float) #convert object type to \n",
    "    \n",
    "X = data.iloc[:,2:]\n",
    "y = data.target"
   ]
  },
  {
   "cell_type": "markdown",
   "metadata": {},
   "source": [
    "### Train Test Split"
   ]
  },
  {
   "cell_type": "code",
   "execution_count": 10,
   "metadata": {},
   "outputs": [],
   "source": [
    "X_train, X_test, y_train, y_test = train_test_split(X, y, stratify=y, test_size=0.20, random_state = 0)"
   ]
  },
  {
   "cell_type": "markdown",
   "metadata": {},
   "source": [
    "### Imputation"
   ]
  },
  {
   "cell_type": "code",
   "execution_count": 11,
   "metadata": {},
   "outputs": [],
   "source": [
    "mean = X_train.mean()\n",
    "X_train = X_train.fillna(mean)\n",
    "X_test = X_test.fillna(mean)"
   ]
  },
  {
   "cell_type": "markdown",
   "metadata": {},
   "source": [
    "### Normalization"
   ]
  },
  {
   "cell_type": "code",
   "execution_count": 12,
   "metadata": {},
   "outputs": [],
   "source": [
    "scaler = preprocessing.StandardScaler()\n",
    "X_train = scaler.fit_transform(X_train)\n",
    "X_test = scaler.transform(X_test)"
   ]
  },
  {
   "cell_type": "code",
   "execution_count": 17,
   "metadata": {},
   "outputs": [
    {
     "name": "stderr",
     "output_type": "stream",
     "text": [
      "C:\\Users\\Mohinish\\Anaconda3\\lib\\site-packages\\sklearn\\base.py:306: UserWarning: Trying to unpickle estimator SVC from version 0.21.3 when using version 0.21.2. This might lead to breaking code or invalid results. Use at your own risk.\n",
      "  UserWarning)\n",
      "C:\\Users\\Mohinish\\Anaconda3\\lib\\site-packages\\sklearn\\base.py:306: UserWarning: Trying to unpickle estimator DecisionTreeClassifier from version 0.21.3 when using version 0.21.2. This might lead to breaking code or invalid results. Use at your own risk.\n",
      "  UserWarning)\n",
      "C:\\Users\\Mohinish\\Anaconda3\\lib\\site-packages\\sklearn\\base.py:306: UserWarning: Trying to unpickle estimator AdaBoostClassifier from version 0.21.3 when using version 0.21.2. This might lead to breaking code or invalid results. Use at your own risk.\n",
      "  UserWarning)\n",
      "C:\\Users\\Mohinish\\Anaconda3\\lib\\site-packages\\sklearn\\base.py:306: UserWarning: Trying to unpickle estimator RandomForestClassifier from version 0.21.3 when using version 0.21.2. This might lead to breaking code or invalid results. Use at your own risk.\n",
      "  UserWarning)\n"
     ]
    }
   ],
   "source": [
    "model_1 = load_object('svm.obj')\n",
    "model_2 = load_object('adaboost.obj')\n",
    "model_3 = load_object('randomforest.obj')"
   ]
  },
  {
   "cell_type": "markdown",
   "metadata": {},
   "source": [
    "## Training f1 score"
   ]
  },
  {
   "cell_type": "code",
   "execution_count": 31,
   "metadata": {},
   "outputs": [
    {
     "name": "stdout",
     "output_type": "stream",
     "text": [
      "Training score: 0.7865810135617417\n"
     ]
    }
   ],
   "source": [
    "#Maximum voting\n",
    "pred_m1 = model_1.predict(X_train)\n",
    "pred_m2 = model_2.predict(X_train)\n",
    "pred_m3 = model_3.predict(X_train)\n",
    "\n",
    "all_preds = []\n",
    "for i in range(len(pred_m1)):\n",
    "    all_preds.append(stats.mode([pred_m1[i], pred_m2[i], pred_m3[i]], axis=None)[0])\n",
    "\n",
    "print(\"Training score: \"+str(f1_score(all_preds, y_train)))"
   ]
  },
  {
   "cell_type": "markdown",
   "metadata": {},
   "source": [
    "## Testing f1 score"
   ]
  },
  {
   "cell_type": "code",
   "execution_count": 33,
   "metadata": {},
   "outputs": [
    {
     "name": "stdout",
     "output_type": "stream",
     "text": [
      "Testing score: 0.8055555555555555\n"
     ]
    }
   ],
   "source": [
    "#Maximum voting\n",
    "pred_m1 = model_1.predict(X_test)\n",
    "pred_m2 = model_2.predict(X_test)\n",
    "pred_m3 = model_3.predict(X_test)\n",
    "\n",
    "all_preds = []\n",
    "for i in range(len(pred_m1)):\n",
    "    all_preds.append(stats.mode([pred_m1[i], pred_m2[i], pred_m3[i]], axis=None)[0])\n",
    "\n",
    "print(\"Testing score: \"+str(f1_score(all_preds, y_test)))"
   ]
  },
  {
   "cell_type": "code",
   "execution_count": 34,
   "metadata": {},
   "outputs": [],
   "source": [
    "mean = df.mean()[2:]\n",
    "test = pd.read_csv(\"equip_failures_test_set.csv\")\n",
    "test = test.replace('na', np.nan)\n",
    "test = test.astype(float)\n",
    "test = test.iloc[:,1:]\n",
    "test = test.fillna(mean)\n",
    "test = scaler.transform(test)"
   ]
  },
  {
   "cell_type": "code",
   "execution_count": 36,
   "metadata": {},
   "outputs": [],
   "source": [
    "#Maximum voting\n",
    "pred_m1 = model_1.predict(test)\n",
    "pred_m2 = model_2.predict(test)\n",
    "pred_m3 = model_3.predict(test)\n",
    "\n",
    "all_preds = []\n",
    "for i in range(len(pred_m1)):\n",
    "    all_preds.append(stats.mode([pred_m1[i], pred_m2[i], pred_m3[i]], axis=None)[0])"
   ]
  },
  {
   "cell_type": "code",
   "execution_count": 40,
   "metadata": {},
   "outputs": [],
   "source": [
    "all_preds = np.array(all_preds).reshape((all_preds.shape[0]))\n",
    "sub1 = pd.DataFrame({'id': list(range(1,len(all_preds)+1)), 'target': np.array(all_preds, dtype  = np.int)})\n",
    "sub1.to_csv('./submission/submission_ensemble.csv', index = False)"
   ]
  }
 ],
 "metadata": {
  "kernelspec": {
   "display_name": "Python 3",
   "language": "python",
   "name": "python3"
  },
  "language_info": {
   "codemirror_mode": {
    "name": "ipython",
    "version": 3
   },
   "file_extension": ".py",
   "mimetype": "text/x-python",
   "name": "python",
   "nbconvert_exporter": "python",
   "pygments_lexer": "ipython3",
   "version": "3.6.5"
  }
 },
 "nbformat": 4,
 "nbformat_minor": 2
}
