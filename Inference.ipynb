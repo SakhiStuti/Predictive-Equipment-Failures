{
 "cells": [
  {
   "cell_type": "code",
   "execution_count": 15,
   "metadata": {},
   "outputs": [],
   "source": [
    "import pandas as pd\n",
    "import numpy as np\n",
    "import pickle\n",
    "\n",
    "from sklearn.model_selection import train_test_split\n",
    "from sklearn.linear_model import LogisticRegression\n",
    "from sklearn.svm import SVC\n",
    "from sklearn.ensemble import RandomForestClassifier, AdaBoostClassifier\n",
    "from sklearn.metrics import f1_score\n",
    "from sklearn.decomposition import PCA\n",
    "\n",
    "from sklearn import preprocessing"
   ]
  },
  {
   "cell_type": "code",
   "execution_count": 6,
   "metadata": {},
   "outputs": [],
   "source": [
    "def load_object(filename):\n",
    "    with open(filename, 'rb')  as f:\n",
    "        obj = pickle.load(f)\n",
    "    return obj"
   ]
  },
  {
   "cell_type": "code",
   "execution_count": 7,
   "metadata": {},
   "outputs": [],
   "source": [
    "model_file = './model/randomforest.obj'\n",
    "scaler_file = './model/scaler.obj'\n",
    "mean_file = './model/mean.obj'\n",
    "test_file = './data/equip_failures_test_set.csv'\n",
    "sub_file = './submission/test_sub.csv'"
   ]
  },
  {
   "cell_type": "code",
   "execution_count": 13,
   "metadata": {},
   "outputs": [],
   "source": [
    "def generate_submission_file(model_file, scaler_file, mean_file, test_file, sub_file):\n",
    "    test = pd.read_csv(test_file)\n",
    "    model = load_object(model_file)\n",
    "    scaler = load_object(scaler_file)\n",
    "    mean = load_object(mean_file)\n",
    "    \n",
    "    #preprocessing\n",
    "    test = test.replace('na', np.nan) \n",
    "    test = test.astype(float)\n",
    "    test = test.iloc[:,1:]\n",
    "    \n",
    "    test = test.fillna(mean)\n",
    "    test = scaler.transform(test)\n",
    "    \n",
    "    #prediction\n",
    "    test_p = model.predict(test)\n",
    "    sub = pd.DataFrame({'id': list(range(1,len(test_p)+1)), 'target': np.array(test_p, dtype  = np.int)})\n",
    "    sub.to_csv(sub_file, index = False)"
   ]
  },
  {
   "cell_type": "code",
   "execution_count": 16,
   "metadata": {},
   "outputs": [],
   "source": [
    "generate_submission_file(model_file, scaler_file, mean_file, test_file, sub_file)"
   ]
  }
 ],
 "metadata": {
  "kernelspec": {
   "display_name": "Python 3",
   "language": "python",
   "name": "python3"
  },
  "language_info": {
   "codemirror_mode": {
    "name": "ipython",
    "version": 3
   },
   "file_extension": ".py",
   "mimetype": "text/x-python",
   "name": "python",
   "nbconvert_exporter": "python",
   "pygments_lexer": "ipython3",
   "version": "3.6.5"
  }
 },
 "nbformat": 4,
 "nbformat_minor": 2
}
